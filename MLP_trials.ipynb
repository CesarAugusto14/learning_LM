{
 "cells": [
  {
   "cell_type": "markdown",
   "metadata": {},
   "source": [
    "# Multilayer Perceptron (MLP) for the names dataset "
   ]
  },
  {
   "cell_type": "code",
   "execution_count": 39,
   "metadata": {},
   "outputs": [],
   "source": [
    "import torch\n",
    "import torch.nn.functional as F\n",
    "import matplotlib.pyplot as plt"
   ]
  },
  {
   "cell_type": "code",
   "execution_count": 40,
   "metadata": {},
   "outputs": [
    {
     "data": {
      "text/plain": [
       "['emma', 'olivia', 'ava', 'isabella', 'sophia']"
      ]
     },
     "execution_count": 40,
     "metadata": {},
     "output_type": "execute_result"
    }
   ],
   "source": [
    "words = open('data/names.txt', 'r').read().split()\n",
    "words[:5]"
   ]
  },
  {
   "cell_type": "code",
   "execution_count": 41,
   "metadata": {},
   "outputs": [
    {
     "data": {
      "text/plain": [
       "32033"
      ]
     },
     "execution_count": 41,
     "metadata": {},
     "output_type": "execute_result"
    }
   ],
   "source": [
    "len(words)"
   ]
  },
  {
   "cell_type": "markdown",
   "metadata": {},
   "source": [
    "## Tokenization"
   ]
  },
  {
   "cell_type": "code",
   "execution_count": 42,
   "metadata": {},
   "outputs": [
    {
     "name": "stdout",
     "output_type": "stream",
     "text": [
      "{1: 'a', 2: 'b', 3: 'c', 4: 'd', 5: 'e', 6: 'f', 7: 'g', 8: 'h', 9: 'i', 10: 'j', 11: 'k', 12: 'l', 13: 'm', 14: 'n', 15: 'o', 16: 'p', 17: 'q', 18: 'r', 19: 's', 20: 't', 21: 'u', 22: 'v', 23: 'w', 24: 'x', 25: 'y', 26: 'z', 0: '.'}\n"
     ]
    }
   ],
   "source": [
    "chars = sorted(list(set(''.join(words))))\n",
    "stringToIndex = {char:index + 1 for index, char in enumerate(chars)}\n",
    "stringToIndex['.'] = 0\n",
    "indexToString = {index:char for char, index in stringToIndex.items()}\n",
    "print(indexToString)"
   ]
  },
  {
   "cell_type": "code",
   "execution_count": 43,
   "metadata": {},
   "outputs": [],
   "source": [
    "# Building the dataset\n",
    "block_size = 3\n",
    "X, Y = [], []\n",
    "for word in words:\n",
    "    # print(word)\n",
    "    context = [0] * block_size\n",
    "    for ch in word + '.':\n",
    "        ix = stringToIndex[ch]\n",
    "        X.append(context)\n",
    "        Y.append(ix)\n",
    "        # print(''.join(indexToString[i] for i in context), '------->', indexToString[ix])\n",
    "        context = context[1:] + [ix] # Crop and append\n",
    "        \n",
    "X = torch.tensor(X)\n",
    "Y = torch.tensor(Y)\n"
   ]
  },
  {
   "cell_type": "code",
   "execution_count": 44,
   "metadata": {},
   "outputs": [],
   "source": [
    "# Embedding layer\n",
    "C = torch.randn((27, 2))\n",
    "emb = C[X]\n",
    "\n",
    "# Weights to the hidden layer\n",
    "W1 = torch.randn((6, 100))\n",
    "b1 = torch.randn((100,))"
   ]
  },
  {
   "cell_type": "markdown",
   "metadata": {},
   "source": [
    "## 3 ways to reshape the embedding layer"
   ]
  },
  {
   "cell_type": "code",
   "execution_count": 45,
   "metadata": {},
   "outputs": [
    {
     "data": {
      "text/plain": [
       "tensor([[-0.7281, -0.1343, -0.7281, -0.1343, -0.7281, -0.1343],\n",
       "        [-0.7281, -0.1343, -0.7281, -0.1343, -0.2918,  1.2143],\n",
       "        [-0.7281, -0.1343, -0.2918,  1.2143, -0.7647,  0.3684],\n",
       "        ...,\n",
       "        [ 0.0138, -1.1718,  0.0138, -1.1718,  1.2702, -0.3712],\n",
       "        [ 0.0138, -1.1718,  1.2702, -0.3712,  0.0138, -1.1718],\n",
       "        [ 1.2702, -0.3712,  0.0138, -1.1718,  0.0697,  1.3834]])"
      ]
     },
     "execution_count": 45,
     "metadata": {},
     "output_type": "execute_result"
    }
   ],
   "source": [
    "# Not useful, hard coded. What if my block_size changes?\n",
    "torch.cat([emb[:, 0, :], emb[:, 1, :], emb[:, 2, :]], dim=1)"
   ]
  },
  {
   "cell_type": "code",
   "execution_count": 46,
   "metadata": {},
   "outputs": [
    {
     "data": {
      "text/plain": [
       "tensor([[-0.7281, -0.1343, -0.7281, -0.1343, -0.7281, -0.1343],\n",
       "        [-0.7281, -0.1343, -0.7281, -0.1343, -0.2918,  1.2143],\n",
       "        [-0.7281, -0.1343, -0.2918,  1.2143, -0.7647,  0.3684],\n",
       "        ...,\n",
       "        [ 0.0138, -1.1718,  0.0138, -1.1718,  1.2702, -0.3712],\n",
       "        [ 0.0138, -1.1718,  1.2702, -0.3712,  0.0138, -1.1718],\n",
       "        [ 1.2702, -0.3712,  0.0138, -1.1718,  0.0697,  1.3834]])"
      ]
     },
     "execution_count": 46,
     "metadata": {},
     "output_type": "execute_result"
    }
   ],
   "source": [
    "# Not efficient, we are creating another tensor\n",
    "torch.cat(torch.unbind(emb, dim = 1), dim = 1)"
   ]
  },
  {
   "cell_type": "code",
   "execution_count": 47,
   "metadata": {},
   "outputs": [
    {
     "data": {
      "text/plain": [
       "tensor([[-0.7281, -0.1343, -0.7281, -0.1343, -0.7281, -0.1343],\n",
       "        [-0.7281, -0.1343, -0.7281, -0.1343, -0.2918,  1.2143],\n",
       "        [-0.7281, -0.1343, -0.2918,  1.2143, -0.7647,  0.3684],\n",
       "        ...,\n",
       "        [ 0.0138, -1.1718,  0.0138, -1.1718,  1.2702, -0.3712],\n",
       "        [ 0.0138, -1.1718,  1.2702, -0.3712,  0.0138, -1.1718],\n",
       "        [ 1.2702, -0.3712,  0.0138, -1.1718,  0.0697,  1.3834]])"
      ]
     },
     "execution_count": 47,
     "metadata": {},
     "output_type": "execute_result"
    }
   ],
   "source": [
    "# Efficient way\n",
    "emb.view(-1, block_size * C.shape[1])"
   ]
  },
  {
   "cell_type": "code",
   "execution_count": 48,
   "metadata": {},
   "outputs": [
    {
     "data": {
      "text/plain": [
       "torch.Size([228146, 100])"
      ]
     },
     "execution_count": 48,
     "metadata": {},
     "output_type": "execute_result"
    }
   ],
   "source": [
    "h = torch.tanh(emb.view(-1, block_size * C.shape[1])@(W1) + b1)\n",
    "h.shape"
   ]
  },
  {
   "cell_type": "markdown",
   "metadata": {},
   "source": [
    "### Output layer"
   ]
  },
  {
   "cell_type": "code",
   "execution_count": 49,
   "metadata": {},
   "outputs": [],
   "source": [
    "W2 = torch.randn((100, 27))\n",
    "b2 = torch.randn(27)\n",
    "logits = h@W2 + b2\n",
    "counts = logits.exp()\n",
    "prob = counts/counts.sum(1, keepdim=True)\n",
    "loss = prob[torch.arange(len(Y)), Y].log().neg().mean()"
   ]
  },
  {
   "cell_type": "code",
   "execution_count": 50,
   "metadata": {},
   "outputs": [
    {
     "data": {
      "text/plain": [
       "tensor(17.2676)"
      ]
     },
     "execution_count": 50,
     "metadata": {},
     "output_type": "execute_result"
    }
   ],
   "source": [
    "loss"
   ]
  },
  {
   "cell_type": "code",
   "execution_count": 51,
   "metadata": {},
   "outputs": [
    {
     "data": {
      "text/plain": [
       "tensor([8.3029e-08, 1.8941e-12, 5.0899e-10,  ..., 9.3329e-11, 3.4140e-05,\n",
       "        5.0707e-05])"
      ]
     },
     "execution_count": 51,
     "metadata": {},
     "output_type": "execute_result"
    }
   ],
   "source": [
    "prob[torch.arange(prob.shape[0]), Y]"
   ]
  },
  {
   "cell_type": "code",
   "execution_count": 52,
   "metadata": {},
   "outputs": [
    {
     "data": {
      "text/plain": [
       "228146"
      ]
     },
     "execution_count": 52,
     "metadata": {},
     "output_type": "execute_result"
    }
   ],
   "source": [
    "prob.shape[0]"
   ]
  },
  {
   "cell_type": "markdown",
   "metadata": {},
   "source": [
    "# Rewriting everything:"
   ]
  },
  {
   "cell_type": "code",
   "execution_count": 53,
   "metadata": {},
   "outputs": [
    {
     "name": "stdout",
     "output_type": "stream",
     "text": [
      "number of parameters: 3481\n",
      "19.002046585083008\n",
      "19.002044677734375\n",
      "The algorithm is estimating the loss in a different way\n"
     ]
    }
   ],
   "source": [
    "g = torch.Generator().manual_seed(42)\n",
    "C = torch.randn((27,2))\n",
    "\n",
    "# Generating random parameters\n",
    "W1 = torch.randn((block_size * C.shape[1], 100))\n",
    "b1 = torch.randn((100,))\n",
    "W2 = torch.randn((100, 27))\n",
    "b2 = torch.randn(27)\n",
    "params = [C, W1, b1, W2, b2]\n",
    "print(\"number of parameters: \" + str(sum(p.numel() for p in params)))\n",
    "# Forward pass:\n",
    "\n",
    "# Embedding layer\n",
    "emb = C[X]\n",
    "\n",
    "# First hidden layer\n",
    "h = torch.tanh(emb.view(-1, block_size * C.shape[1])@W1 + b1)\n",
    "\n",
    "# Output layer\n",
    "logits = h@W2 + b2\n",
    "\n",
    "# Softmax layer (We can use cross_entropy easily. But we are doing it manually)\n",
    "counts = logits.exp()\n",
    "prob = counts/counts.sum(1, keepdim=True)\n",
    "loss = prob[torch.arange(len(Y)), Y].log().neg().mean()\n",
    "print(loss.item())\n",
    "# Use cross_entropy\n",
    "loss2 = F.cross_entropy(logits, Y) \n",
    "print(loss2.item())\n",
    "\n",
    "if loss.item() == loss2.item():\n",
    "    print(\"Both losses are the same\")\n",
    "else:\n",
    "    print(\"The algorithm is estimating the loss in a different way\")"
   ]
  },
  {
   "cell_type": "code",
   "execution_count": 54,
   "metadata": {},
   "outputs": [],
   "source": [
    "for p in params:\n",
    "    p.requires_grad_()"
   ]
  },
  {
   "cell_type": "code",
   "execution_count": 55,
   "metadata": {},
   "outputs": [
    {
     "name": "stdout",
     "output_type": "stream",
     "text": [
      "19.002044677734375\n",
      "15.969666481018066\n",
      "14.42932415008545\n",
      "13.266266822814941\n",
      "12.3394193649292\n",
      "11.692951202392578\n",
      "11.033001899719238\n",
      "10.41457748413086\n",
      "9.779646873474121\n",
      "9.237674713134766\n",
      "8.751880645751953\n",
      "8.359370231628418\n",
      "7.953746318817139\n",
      "7.686043739318848\n",
      "7.310216426849365\n",
      "7.117526531219482\n",
      "6.761959552764893\n",
      "6.577325344085693\n",
      "6.305647850036621\n",
      "6.150050163269043\n",
      "5.909390926361084\n",
      "5.7665557861328125\n",
      "5.56456995010376\n",
      "5.447741985321045\n",
      "5.270220756530762\n",
      "5.17670202255249\n",
      "5.005305767059326\n",
      "4.929655075073242\n",
      "4.769920349121094\n",
      "4.716645240783691\n",
      "4.564993381500244\n",
      "4.5351457595825195\n",
      "4.3869948387146\n",
      "4.379265785217285\n",
      "4.233891487121582\n",
      "4.246975421905518\n",
      "4.103461742401123\n",
      "4.134256362915039\n",
      "3.9933578968048096\n",
      "4.038576126098633\n",
      "3.9004664421081543\n",
      "3.956969738006592\n",
      "3.82228684425354\n",
      "3.8878374099731445\n",
      "3.7558107376098633\n",
      "3.827773094177246\n",
      "3.6978602409362793\n",
      "3.7737820148468018\n",
      "3.6449334621429443\n",
      "3.7230238914489746\n",
      "3.5956618785858154\n",
      "3.675748586654663\n",
      "3.549621820449829\n",
      "3.631850242614746\n",
      "3.5073556900024414\n",
      "3.591919183731079\n",
      "3.468491554260254\n",
      "3.5551278591156006\n",
      "3.4332289695739746\n",
      "3.52156400680542\n",
      "3.4009644985198975\n",
      "3.490365982055664\n",
      "3.3717057704925537\n",
      "3.461509943008423\n",
      "3.344744920730591\n",
      "3.43434476852417\n",
      "3.319937229156494\n",
      "3.408775568008423\n",
      "3.2967560291290283\n",
      "3.384465217590332\n",
      "3.275090217590332\n",
      "3.361311197280884\n",
      "3.254661798477173\n",
      "3.339176654815674\n",
      "3.2353415489196777\n",
      "3.317945718765259\n",
      "3.217003107070923\n",
      "3.297581195831299\n",
      "3.1995582580566406\n",
      "3.277994155883789\n",
      "3.182953357696533\n",
      "3.2591781616210938\n",
      "3.1671087741851807\n",
      "3.2410807609558105\n",
      "3.152000904083252\n",
      "3.223701238632202\n",
      "3.137566328048706\n",
      "3.2070322036743164\n",
      "3.1237993240356445\n",
      "3.1910486221313477\n",
      "3.1106696128845215\n",
      "3.1757636070251465\n",
      "3.0981359481811523\n",
      "3.1611406803131104\n",
      "3.086174964904785\n",
      "3.147178888320923\n",
      "3.0747604370117188\n",
      "3.133838176727295\n",
      "3.0638601779937744\n",
      "3.1211016178131104\n"
     ]
    }
   ],
   "source": [
    "# Forward pass:\n",
    "for _ in range(100):\n",
    "    # Embedding layer\n",
    "    emb = C[X]\n",
    "\n",
    "    # First hidden layer\n",
    "    h = torch.tanh(emb.view(-1, block_size * C.shape[1])@W1 + b1)\n",
    "\n",
    "    # Output layer\n",
    "    logits = h@W2 + b2\n",
    "    loss = F.cross_entropy(logits, Y)\n",
    "    print(loss.item())\n",
    "    # Backward pass\n",
    "    for p in params:\n",
    "        p.grad = None\n",
    "\n",
    "    loss.backward()\n",
    "\n",
    "    for p in params:\n",
    "        # print(p.grad)\n",
    "        p.data -= .2 * p.grad"
   ]
  },
  {
   "cell_type": "markdown",
   "metadata": {},
   "source": [
    "## Minibatch + Learning rate"
   ]
  },
  {
   "cell_type": "code",
   "execution_count": 56,
   "metadata": {},
   "outputs": [
    {
     "name": "stdout",
     "output_type": "stream",
     "text": [
      "number of parameters: 3481\n",
      "2.4081270694732666\n"
     ]
    }
   ],
   "source": [
    "g = torch.Generator().manual_seed(42)\n",
    "C = torch.randn((27,2))\n",
    "\n",
    "# Generating random parameters\n",
    "W1 = torch.randn((block_size * C.shape[1], 100))\n",
    "b1 = torch.randn((100,))\n",
    "W2 = torch.randn((100, 27))\n",
    "b2 = torch.randn(27)\n",
    "params = [C, W1, b1, W2, b2]\n",
    "print(\"number of parameters: \" + str(sum(p.numel() for p in params)))\n",
    "\n",
    "# Hyperparams: \n",
    "learning_rate = .5\n",
    "n_epochs = 10000\n",
    "batch_size = 128\n",
    "\n",
    "for p in params:\n",
    "    p.requires_grad_()\n",
    "    \n",
    "for _ in range(n_epochs):\n",
    "    # Mini-batch construction:\n",
    "    ix = torch.randint(0, X.shape[0], (batch_size,), generator=g)\n",
    "    \n",
    "    # Forward pass:\n",
    "    # Embedding layer\n",
    "    emb = C[X[ix]]\n",
    "\n",
    "    # First hidden layer\n",
    "    h = torch.tanh(emb.view(-1, block_size * C.shape[1])@W1 + b1)\n",
    "\n",
    "    # Output layer\n",
    "    logits = h@W2 + b2\n",
    "    loss = F.cross_entropy(logits, Y[ix])\n",
    "    # print(loss.item())\n",
    "    \n",
    "    # Backward pass\n",
    "    for p in params:\n",
    "        p.grad = None\n",
    "    loss.backward()\n",
    "    \n",
    "    # Update\n",
    "    for p in params:\n",
    "        # print(p.grad)\n",
    "        p.data -= learning_rate * p.grad\n",
    "\n",
    "# Print loss with the whole dataset\n",
    "# Forward pass:\n",
    "# Embedding layer\n",
    "emb = C[X]\n",
    "h = torch.tanh(emb.view(-1, block_size * C.shape[1])@W1 + b1)\n",
    "logits = h@W2 + b2\n",
    "loss = F.cross_entropy(logits, Y)\n",
    "print(loss.item())"
   ]
  },
  {
   "cell_type": "code",
   "execution_count": 57,
   "metadata": {},
   "outputs": [],
   "source": [
    "# lre = torch.linspace(-3, 0, 1000)\n",
    "# lrs = 10**lre\n",
    "\n",
    "# lri = []\n",
    "# lossi = []\n",
    "\n",
    "# for i in range(1000):\n",
    "#     ix = torch.randint(0, X.shape[0], (batch_size,), generator=g)\n",
    "#     emb = C[X[ix]]\n",
    "#     h = torch.tanh(emb.view(-1, block_size * C.shape[1])@W1 + b1)\n",
    "#     logits = h@W2 + b2\n",
    "#     loss = F.cross_entropy(logits, Y[ix])\n",
    "        \n",
    "#     for p in params:\n",
    "#         p.grad = None\n",
    "#     loss.backward()\n",
    "#     lr = lrs[i]\n",
    "#     for p in params:\n",
    "#         p.data -= lr * p.grad\n",
    "    \n",
    "#     lri.append(lr)\n",
    "#     lossi.append(loss.item())\n",
    "    \n",
    "# plt.plot(lre, lossi)"
   ]
  },
  {
   "cell_type": "markdown",
   "metadata": {},
   "source": [
    "## Train/dev/test split"
   ]
  },
  {
   "cell_type": "code",
   "execution_count": null,
   "metadata": {},
   "outputs": [],
   "source": [
    "# Train/dev/test split\n",
    "# 80% train, 10% dev, 10% test\n",
    "def build_dataset(words, block_size):\n",
    "    "
   ]
  }
 ],
 "metadata": {
  "kernelspec": {
   "display_name": "torch",
   "language": "python",
   "name": "python3"
  },
  "language_info": {
   "codemirror_mode": {
    "name": "ipython",
    "version": 3
   },
   "file_extension": ".py",
   "mimetype": "text/x-python",
   "name": "python",
   "nbconvert_exporter": "python",
   "pygments_lexer": "ipython3",
   "version": "3.10.10"
  }
 },
 "nbformat": 4,
 "nbformat_minor": 2
}
