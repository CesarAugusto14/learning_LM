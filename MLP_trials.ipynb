{
 "cells": [
  {
   "cell_type": "markdown",
   "metadata": {},
   "source": [
    "# Multilayer Perceptron (MLP) for the names dataset "
   ]
  },
  {
   "cell_type": "code",
   "execution_count": 3,
   "metadata": {},
   "outputs": [],
   "source": [
    "import torch\n",
    "import torch.nn.functional as F\n",
    "import matplotlib.pyplot as plt"
   ]
  },
  {
   "cell_type": "code",
   "execution_count": 4,
   "metadata": {},
   "outputs": [
    {
     "data": {
      "text/plain": [
       "['emma', 'olivia', 'ava', 'isabella', 'sophia']"
      ]
     },
     "execution_count": 4,
     "metadata": {},
     "output_type": "execute_result"
    }
   ],
   "source": [
    "words = open('data/names.txt', 'r').read().split()\n",
    "words[:5]"
   ]
  },
  {
   "cell_type": "code",
   "execution_count": 5,
   "metadata": {},
   "outputs": [
    {
     "data": {
      "text/plain": [
       "32033"
      ]
     },
     "execution_count": 5,
     "metadata": {},
     "output_type": "execute_result"
    }
   ],
   "source": [
    "len(words)"
   ]
  },
  {
   "cell_type": "markdown",
   "metadata": {},
   "source": [
    "## Tokenization"
   ]
  },
  {
   "cell_type": "code",
   "execution_count": 6,
   "metadata": {},
   "outputs": [
    {
     "name": "stdout",
     "output_type": "stream",
     "text": [
      "{1: 'a', 2: 'b', 3: 'c', 4: 'd', 5: 'e', 6: 'f', 7: 'g', 8: 'h', 9: 'i', 10: 'j', 11: 'k', 12: 'l', 13: 'm', 14: 'n', 15: 'o', 16: 'p', 17: 'q', 18: 'r', 19: 's', 20: 't', 21: 'u', 22: 'v', 23: 'w', 24: 'x', 25: 'y', 26: 'z', 0: '.'}\n"
     ]
    }
   ],
   "source": [
    "chars = sorted(list(set(''.join(words))))\n",
    "stringToIndex = {char:index + 1 for index, char in enumerate(chars)}\n",
    "stringToIndex['.'] = 0\n",
    "indexToString = {index:char for char, index in stringToIndex.items()}\n",
    "print(indexToString)"
   ]
  },
  {
   "cell_type": "code",
   "execution_count": 7,
   "metadata": {},
   "outputs": [],
   "source": [
    "# Building the dataset\n",
    "block_size = 3\n",
    "X, Y = [], []\n",
    "for word in words:\n",
    "    # print(word)\n",
    "    context = [0] * block_size\n",
    "    for ch in word + '.':\n",
    "        ix = stringToIndex[ch]\n",
    "        X.append(context)\n",
    "        Y.append(ix)\n",
    "        # print(''.join(indexToString[i] for i in context), '------->', indexToString[ix])\n",
    "        context = context[1:] + [ix] # Crop and append\n",
    "        \n",
    "X = torch.tensor(X)\n",
    "Y = torch.tensor(Y)\n"
   ]
  },
  {
   "cell_type": "code",
   "execution_count": 8,
   "metadata": {},
   "outputs": [],
   "source": [
    "# Embedding layer\n",
    "C = torch.randn((27, 2))\n",
    "emb = C[X]\n",
    "\n",
    "# Weights to the hidden layer\n",
    "W1 = torch.randn((6, 100))\n",
    "b1 = torch.randn((100,))"
   ]
  },
  {
   "cell_type": "markdown",
   "metadata": {},
   "source": [
    "## 3 ways to reshape the embedding layer"
   ]
  },
  {
   "cell_type": "code",
   "execution_count": 9,
   "metadata": {},
   "outputs": [
    {
     "data": {
      "text/plain": [
       "tensor([[-1.7030,  0.0829, -1.7030,  0.0829, -1.7030,  0.0829],\n",
       "        [-1.7030,  0.0829, -1.7030,  0.0829, -0.3627,  0.1109],\n",
       "        [-1.7030,  0.0829, -0.3627,  0.1109,  0.3106,  0.2517],\n",
       "        ...,\n",
       "        [-1.6406,  0.8209, -1.6406,  0.8209,  0.8064,  1.5305],\n",
       "        [-1.6406,  0.8209,  0.8064,  1.5305, -1.6406,  0.8209],\n",
       "        [ 0.8064,  1.5305, -1.6406,  0.8209, -0.1685, -0.6242]])"
      ]
     },
     "execution_count": 9,
     "metadata": {},
     "output_type": "execute_result"
    }
   ],
   "source": [
    "# Not useful, hard coded. What if my block_size changes?\n",
    "torch.cat([emb[:, 0, :], emb[:, 1, :], emb[:, 2, :]], dim=1)"
   ]
  },
  {
   "cell_type": "code",
   "execution_count": 10,
   "metadata": {},
   "outputs": [
    {
     "data": {
      "text/plain": [
       "tensor([[-1.7030,  0.0829, -1.7030,  0.0829, -1.7030,  0.0829],\n",
       "        [-1.7030,  0.0829, -1.7030,  0.0829, -0.3627,  0.1109],\n",
       "        [-1.7030,  0.0829, -0.3627,  0.1109,  0.3106,  0.2517],\n",
       "        ...,\n",
       "        [-1.6406,  0.8209, -1.6406,  0.8209,  0.8064,  1.5305],\n",
       "        [-1.6406,  0.8209,  0.8064,  1.5305, -1.6406,  0.8209],\n",
       "        [ 0.8064,  1.5305, -1.6406,  0.8209, -0.1685, -0.6242]])"
      ]
     },
     "execution_count": 10,
     "metadata": {},
     "output_type": "execute_result"
    }
   ],
   "source": [
    "# Not efficient, we are creating another tensor\n",
    "torch.cat(torch.unbind(emb, dim = 1), dim = 1)"
   ]
  },
  {
   "cell_type": "code",
   "execution_count": 11,
   "metadata": {},
   "outputs": [
    {
     "data": {
      "text/plain": [
       "tensor([[-1.7030,  0.0829, -1.7030,  0.0829, -1.7030,  0.0829],\n",
       "        [-1.7030,  0.0829, -1.7030,  0.0829, -0.3627,  0.1109],\n",
       "        [-1.7030,  0.0829, -0.3627,  0.1109,  0.3106,  0.2517],\n",
       "        ...,\n",
       "        [-1.6406,  0.8209, -1.6406,  0.8209,  0.8064,  1.5305],\n",
       "        [-1.6406,  0.8209,  0.8064,  1.5305, -1.6406,  0.8209],\n",
       "        [ 0.8064,  1.5305, -1.6406,  0.8209, -0.1685, -0.6242]])"
      ]
     },
     "execution_count": 11,
     "metadata": {},
     "output_type": "execute_result"
    }
   ],
   "source": [
    "# Efficient way\n",
    "emb.view(-1, block_size * C.shape[1])"
   ]
  },
  {
   "cell_type": "code",
   "execution_count": 12,
   "metadata": {},
   "outputs": [
    {
     "data": {
      "text/plain": [
       "torch.Size([228146, 100])"
      ]
     },
     "execution_count": 12,
     "metadata": {},
     "output_type": "execute_result"
    }
   ],
   "source": [
    "h = torch.tanh(emb.view(-1, block_size * C.shape[1])@(W1) + b1)\n",
    "h.shape"
   ]
  },
  {
   "cell_type": "markdown",
   "metadata": {},
   "source": [
    "### Output layer"
   ]
  },
  {
   "cell_type": "code",
   "execution_count": 13,
   "metadata": {},
   "outputs": [],
   "source": [
    "W2 = torch.randn((100, 27))\n",
    "b2 = torch.randn(27)\n",
    "logits = h@W2 + b2\n",
    "counts = logits.exp()\n",
    "prob = counts/counts.sum(1, keepdim=True)\n",
    "loss = prob[torch.arange(len(Y)), Y].log().neg().mean()"
   ]
  },
  {
   "cell_type": "code",
   "execution_count": 14,
   "metadata": {},
   "outputs": [
    {
     "data": {
      "text/plain": [
       "tensor(17.1074)"
      ]
     },
     "execution_count": 14,
     "metadata": {},
     "output_type": "execute_result"
    }
   ],
   "source": [
    "loss"
   ]
  },
  {
   "cell_type": "code",
   "execution_count": 15,
   "metadata": {},
   "outputs": [
    {
     "data": {
      "text/plain": [
       "tensor([2.2198e-16, 1.2981e-10, 1.1093e-06,  ..., 8.6177e-01, 1.1178e-04,\n",
       "        1.6722e-07])"
      ]
     },
     "execution_count": 15,
     "metadata": {},
     "output_type": "execute_result"
    }
   ],
   "source": [
    "prob[torch.arange(prob.shape[0]), Y]"
   ]
  },
  {
   "cell_type": "code",
   "execution_count": 16,
   "metadata": {},
   "outputs": [
    {
     "data": {
      "text/plain": [
       "228146"
      ]
     },
     "execution_count": 16,
     "metadata": {},
     "output_type": "execute_result"
    }
   ],
   "source": [
    "prob.shape[0]"
   ]
  },
  {
   "cell_type": "markdown",
   "metadata": {},
   "source": [
    "# Rewriting everything:"
   ]
  },
  {
   "cell_type": "code",
   "execution_count": 17,
   "metadata": {},
   "outputs": [
    {
     "name": "stdout",
     "output_type": "stream",
     "text": [
      "number of parameters: 3481\n",
      "17.541959762573242\n",
      "17.541959762573242\n",
      "Both losses are the same\n"
     ]
    }
   ],
   "source": [
    "g = torch.Generator().manual_seed(42)\n",
    "C = torch.randn((27,2))\n",
    "\n",
    "# Generating random parameters\n",
    "W1 = torch.randn((block_size * C.shape[1], 100))\n",
    "b1 = torch.randn((100,))\n",
    "W2 = torch.randn((100, 27))\n",
    "b2 = torch.randn(27)\n",
    "params = [C, W1, b1, W2, b2]\n",
    "print(\"number of parameters: \" + str(sum(p.numel() for p in params)))\n",
    "# Forward pass:\n",
    "\n",
    "# Embedding layer\n",
    "emb = C[X]\n",
    "\n",
    "# First hidden layer\n",
    "h = torch.tanh(emb.view(-1, block_size * C.shape[1])@W1 + b1)\n",
    "\n",
    "# Output layer\n",
    "logits = h@W2 + b2\n",
    "\n",
    "# Softmax layer (We can use cross_entropy easily. But we are doing it manually)\n",
    "counts = logits.exp()\n",
    "prob = counts/counts.sum(1, keepdim=True)\n",
    "loss = prob[torch.arange(len(Y)), Y].log().neg().mean()\n",
    "print(loss.item())\n",
    "# Use cross_entropy\n",
    "loss2 = F.cross_entropy(logits, Y) \n",
    "print(loss2.item())\n",
    "\n",
    "if loss.item() == loss2.item():\n",
    "    print(\"Both losses are the same\")\n",
    "else:\n",
    "    print(\"The algorithm is estimating the loss in a different way\")"
   ]
  },
  {
   "cell_type": "code",
   "execution_count": 18,
   "metadata": {},
   "outputs": [],
   "source": [
    "for p in params:\n",
    "    p.requires_grad_()"
   ]
  },
  {
   "cell_type": "code",
   "execution_count": 19,
   "metadata": {},
   "outputs": [
    {
     "name": "stdout",
     "output_type": "stream",
     "text": [
      "17.541959762573242\n",
      "14.486109733581543\n",
      "12.624192237854004\n",
      "11.379446029663086\n",
      "10.391683578491211\n",
      "9.437408447265625\n",
      "8.474136352539062\n",
      "7.711389541625977\n",
      "7.412990570068359\n",
      "6.938505172729492\n",
      "6.694663047790527\n",
      "6.120059490203857\n",
      "5.688238620758057\n",
      "5.459899425506592\n",
      "5.284239768981934\n",
      "5.151508331298828\n",
      "5.007272243499756\n",
      "4.814128398895264\n",
      "4.750091075897217\n",
      "4.569913864135742\n",
      "4.540245532989502\n",
      "4.349911689758301\n",
      "4.30597448348999\n",
      "4.173045635223389\n",
      "4.135594844818115\n",
      "4.033825397491455\n",
      "3.999901056289673\n",
      "3.922423839569092\n",
      "3.887606620788574\n",
      "3.8361716270446777\n",
      "3.7925446033477783\n",
      "3.774484157562256\n",
      "3.7139060497283936\n",
      "3.727768898010254\n",
      "3.65427565574646\n",
      "3.686854600906372\n",
      "3.6107006072998047\n",
      "3.6472930908203125\n",
      "3.569866418838501\n",
      "3.600708246231079\n",
      "3.5299668312072754\n",
      "3.555778980255127\n",
      "3.491394281387329\n",
      "3.512968063354492\n",
      "3.452594518661499\n",
      "3.472421169281006\n",
      "3.4131603240966797\n",
      "3.4332497119903564\n",
      "3.3757691383361816\n",
      "3.3975000381469727\n",
      "3.340991258621216\n",
      "3.3643481731414795\n",
      "3.309535264968872\n",
      "3.3345038890838623\n",
      "3.280822992324829\n",
      "3.3069591522216797\n",
      "3.254861831665039\n",
      "3.2819104194641113\n",
      "3.2310259342193604\n",
      "3.2586357593536377\n",
      "3.209198236465454\n",
      "3.237163543701172\n",
      "3.1889047622680664\n",
      "3.217033624649048\n",
      "3.1700334548950195\n",
      "3.1981987953186035\n",
      "3.152294635772705\n",
      "3.180385112762451\n",
      "3.1355981826782227\n",
      "3.1635093688964844\n",
      "3.1197798252105713\n",
      "3.1473965644836426\n",
      "3.1047637462615967\n",
      "3.1319613456726074\n",
      "3.0904324054718018\n",
      "3.1170897483825684\n",
      "3.0767037868499756\n",
      "3.1027214527130127\n",
      "3.063474655151367\n",
      "3.0888006687164307\n",
      "3.050663948059082\n",
      "3.0753071308135986\n",
      "3.0381977558135986\n",
      "3.0622353553771973\n",
      "3.026035785675049\n",
      "3.049600601196289\n",
      "3.0141613483428955\n",
      "3.0374159812927246\n",
      "3.002579689025879\n",
      "3.025702953338623\n",
      "2.991318702697754\n",
      "3.0144708156585693\n",
      "2.980405807495117\n",
      "3.0037293434143066\n",
      "2.9698781967163086\n",
      "2.9934768676757812\n",
      "2.959764003753662\n",
      "2.983708620071411\n",
      "2.950089693069458\n",
      "2.9744083881378174\n"
     ]
    }
   ],
   "source": [
    "# Forward pass:\n",
    "for _ in range(100):\n",
    "    # Embedding layer\n",
    "    emb = C[X]\n",
    "\n",
    "    # First hidden layer\n",
    "    h = torch.tanh(emb.view(-1, block_size * C.shape[1])@W1 + b1)\n",
    "\n",
    "    # Output layer\n",
    "    logits = h@W2 + b2\n",
    "    loss = F.cross_entropy(logits, Y)\n",
    "    print(loss.item())\n",
    "    # Backward pass\n",
    "    for p in params:\n",
    "        p.grad = None\n",
    "\n",
    "    loss.backward()\n",
    "\n",
    "    for p in params:\n",
    "        # print(p.grad)\n",
    "        p.data -= .2 * p.grad"
   ]
  },
  {
   "cell_type": "markdown",
   "metadata": {},
   "source": [
    "## Minibatch + Learning rate"
   ]
  },
  {
   "cell_type": "code",
   "execution_count": 20,
   "metadata": {},
   "outputs": [
    {
     "name": "stdout",
     "output_type": "stream",
     "text": [
      "number of parameters: 3481\n",
      "2.3935160636901855\n"
     ]
    }
   ],
   "source": [
    "g = torch.Generator().manual_seed(42)\n",
    "C = torch.randn((27,2))\n",
    "\n",
    "# Generating random parameters\n",
    "W1 = torch.randn((block_size * C.shape[1], 100))\n",
    "b1 = torch.randn((100,))\n",
    "W2 = torch.randn((100, 27))\n",
    "b2 = torch.randn(27)\n",
    "params = [C, W1, b1, W2, b2]\n",
    "print(\"number of parameters: \" + str(sum(p.numel() for p in params)))\n",
    "\n",
    "# Hyperparams: \n",
    "learning_rate = .5\n",
    "n_epochs = 10000\n",
    "batch_size = 128\n",
    "\n",
    "for p in params:\n",
    "    p.requires_grad_()\n",
    "    \n",
    "for _ in range(n_epochs):\n",
    "    # Mini-batch construction:\n",
    "    ix = torch.randint(0, X.shape[0], (batch_size,), generator=g)\n",
    "    \n",
    "    # Forward pass:\n",
    "    # Embedding layer\n",
    "    emb = C[X[ix]]\n",
    "\n",
    "    # First hidden layer\n",
    "    h = torch.tanh(emb.view(-1, block_size * C.shape[1])@W1 + b1)\n",
    "\n",
    "    # Output layer\n",
    "    logits = h@W2 + b2\n",
    "    loss = F.cross_entropy(logits, Y[ix])\n",
    "    # print(loss.item())\n",
    "    \n",
    "    # Backward pass\n",
    "    for p in params:\n",
    "        p.grad = None\n",
    "    loss.backward()\n",
    "    \n",
    "    # Update\n",
    "    for p in params:\n",
    "        # print(p.grad)\n",
    "        p.data -= learning_rate * p.grad\n",
    "\n",
    "# Print loss with the whole dataset\n",
    "# Forward pass:\n",
    "# Embedding layer\n",
    "emb = C[X]\n",
    "h = torch.tanh(emb.view(-1, block_size * C.shape[1])@W1 + b1)\n",
    "logits = h@W2 + b2\n",
    "loss = F.cross_entropy(logits, Y)\n",
    "print(loss.item())"
   ]
  },
  {
   "cell_type": "code",
   "execution_count": 21,
   "metadata": {},
   "outputs": [],
   "source": [
    "# lre = torch.linspace(-3, 0, 1000)\n",
    "# lrs = 10**lre\n",
    "\n",
    "# lri = []\n",
    "# lossi = []\n",
    "\n",
    "# for i in range(1000):\n",
    "#     ix = torch.randint(0, X.shape[0], (batch_size,), generator=g)\n",
    "#     emb = C[X[ix]]\n",
    "#     h = torch.tanh(emb.view(-1, block_size * C.shape[1])@W1 + b1)\n",
    "#     logits = h@W2 + b2\n",
    "#     loss = F.cross_entropy(logits, Y[ix])\n",
    "        \n",
    "#     for p in params:\n",
    "#         p.grad = None\n",
    "#     loss.backward()\n",
    "#     lr = lrs[i]\n",
    "#     for p in params:\n",
    "#         p.data -= lr * p.grad\n",
    "    \n",
    "#     lri.append(lr)\n",
    "#     lossi.append(loss.item())\n",
    "    \n",
    "# plt.plot(lre, lossi)"
   ]
  },
  {
   "cell_type": "markdown",
   "metadata": {},
   "source": [
    "## Train/dev/test split"
   ]
  },
  {
   "cell_type": "code",
   "execution_count": 22,
   "metadata": {},
   "outputs": [],
   "source": [
    "# Train/dev/test split\n",
    "# 80% train, 10% dev, 10% test\n",
    "def build_dataset(words, block_size):\n",
    "    X, Y = [], []\n",
    "    for word in words:\n",
    "        context = [0] * block_size\n",
    "        for ch in word + '.':\n",
    "            ix = stringToIndex[ch]\n",
    "            X.append(context)\n",
    "            Y.append(ix)\n",
    "            context = context[1:] + [ix] # Crop and append\n",
    "    return torch.tensor(X), torch.tensor(Y)\n",
    "\n",
    "import random \n",
    "random.seed(42)\n",
    "random.shuffle(words)\n",
    "n = len(words)\n",
    "train_words = words[:int(.8*n)]\n",
    "dev_words = words[int(.8*n):int(.9*n)]\n",
    "test_words = words[int(.9*n):]\n",
    "X_train, Y_train = build_dataset(train_words, block_size)\n",
    "X_dev, Y_dev = build_dataset(dev_words, block_size)\n",
    "X_test, Y_test = build_dataset(test_words, block_size)"
   ]
  },
  {
   "cell_type": "code",
   "execution_count": 42,
   "metadata": {},
   "outputs": [
    {
     "name": "stdout",
     "output_type": "stream",
     "text": [
      "number of parameters: 3481\n"
     ]
    }
   ],
   "source": [
    "def multilayer_perceptron(block_size, emb_size, n_units):\n",
    "    # Generating params\n",
    "    # Embedding layer\n",
    "    g = torch.Generator().manual_seed(42)\n",
    "    C = torch.randn((27, emb_size), generator=g)\n",
    "    \n",
    "    # First hidden layer\n",
    "    W1 = torch.randn((block_size * emb_size, n_units), generator=g)\n",
    "    b1 = torch.randn((n_units,), generator=g)\n",
    "    \n",
    "    # Output layer\n",
    "    W2 = torch.randn((n_units, 27), generator=g)\n",
    "    b2 = torch.randn(27, generator=g)\n",
    "    \n",
    "    params = [C, W1, b1, W2, b2]\n",
    "    \n",
    "    return params\n",
    "\n",
    "def forward(params, X):\n",
    "    C, W1, b1, W2, b2 = params\n",
    "    emb = C[X]\n",
    "    h = torch.tanh(emb.view(-1, block_size * C.shape[1])@W1 + b1)\n",
    "    logits = h@W2 + b2\n",
    "    return logits\n",
    "\n",
    "\n",
    "params = multilayer_perceptron(block_size=3, emb_size = 2, n_units = 100)\n",
    "# Number of parameters\n",
    "print(\"number of parameters: \" + str(sum(p.numel() for p in params)))\n"
   ]
  },
  {
   "cell_type": "code",
   "execution_count": 45,
   "metadata": {},
   "outputs": [
    {
     "name": "stdout",
     "output_type": "stream",
     "text": [
      "2.2393977642059326\n"
     ]
    }
   ],
   "source": [
    "def train(params, X, Y, X_dev, Y_dev, n_epochs = 1000, learning_rate = .5, batch_size = 128):\n",
    "    hist_loss = []\n",
    "    for p in params:\n",
    "        p.requires_grad_()\n",
    "    \n",
    "    g = torch.Generator().manual_seed(42)\n",
    "    for _ in range(n_epochs):\n",
    "        # Mini-batch construction:\n",
    "        ix = torch.randint(0, X.shape[0], (batch_size,), generator=g)\n",
    "\n",
    "        # Forward pass:\n",
    "        logits = forward(params, X[ix])\n",
    "        loss = F.cross_entropy(logits, Y[ix])\n",
    "\n",
    "        # Backward pass\n",
    "        for p in params:\n",
    "            p.grad = None\n",
    "        loss.backward()\n",
    "        \n",
    "        # Update\n",
    "        for p in params:\n",
    "            p.data -= learning_rate * p.grad\n",
    "        \n",
    "        hist_loss.append(loss.item())\n",
    "    \n",
    "    # Print loss with the dev set:\n",
    "    logits = forward(params, X_dev)\n",
    "    dev_loss = F.cross_entropy(logits, Y_dev)\n",
    "    print(dev_loss.item())\n",
    "    \n",
    "    return params, hist_loss\n",
    "            \n",
    "params, loss = train(params, X_train, Y_train, X_dev, Y_dev, n_epochs=10000, learning_rate=.4, batch_size=X_train.shape[0])"
   ]
  },
  {
   "cell_type": "code",
   "execution_count": 47,
   "metadata": {},
   "outputs": [
    {
     "data": {
      "text/plain": [
       "[<matplotlib.lines.Line2D at 0x261cda1a110>]"
      ]
     },
     "execution_count": 47,
     "metadata": {},
     "output_type": "execute_result"
    },
    {
     "data": {
      "image/png": "[encoded data removed]",
      "text/plain": [
       "<Figure size 640x480 with 1 Axes>"
      ]
     },
     "metadata": {},
     "output_type": "display_data"
    }
   ],
   "source": [
    "plt.plot(loss)"
   ]
  }
 ],
 "metadata": {
  "kernelspec": {
   "display_name": "torch",
   "language": "python",
   "name": "python3"
  },
  "language_info": {
   "codemirror_mode": {
    "name": "ipython",
    "version": 3
   },
   "file_extension": ".py",
   "mimetype": "text/x-python",
   "name": "python",
   "nbconvert_exporter": "python",
   "pygments_lexer": "ipython3",
   "version": "3.10.10"
  }
 },
 "nbformat": 4,
 "nbformat_minor": 2
}
