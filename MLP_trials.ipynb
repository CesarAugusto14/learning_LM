{
 "cells": [
  {
   "cell_type": "markdown",
   "metadata": {},
   "source": [
    "# Multilayer Perceptron (MLP) for the names dataset "
   ]
  },
  {
   "cell_type": "code",
   "execution_count": 24,
   "metadata": {},
   "outputs": [],
   "source": [
    "import torch\n",
    "import torch.nn.functional as F\n",
    "import matplotlib.pyplot as plt\n",
    "\n"
   ]
  },
  {
   "cell_type": "code",
   "execution_count": 2,
   "metadata": {},
   "outputs": [
    {
     "data": {
      "text/plain": [
       "['emma', 'olivia', 'ava', 'isabella', 'sophia']"
      ]
     },
     "execution_count": 2,
     "metadata": {},
     "output_type": "execute_result"
    }
   ],
   "source": [
    "words = open('data/names.txt', 'r').read().split()\n",
    "words[:5]"
   ]
  },
  {
   "cell_type": "code",
   "execution_count": 3,
   "metadata": {},
   "outputs": [
    {
     "data": {
      "text/plain": [
       "32033"
      ]
     },
     "execution_count": 3,
     "metadata": {},
     "output_type": "execute_result"
    }
   ],
   "source": [
    "len(words)"
   ]
  },
  {
   "cell_type": "markdown",
   "metadata": {},
   "source": [
    "## Tokenization"
   ]
  },
  {
   "cell_type": "code",
   "execution_count": 4,
   "metadata": {},
   "outputs": [
    {
     "name": "stdout",
     "output_type": "stream",
     "text": [
      "{1: 'a', 2: 'b', 3: 'c', 4: 'd', 5: 'e', 6: 'f', 7: 'g', 8: 'h', 9: 'i', 10: 'j', 11: 'k', 12: 'l', 13: 'm', 14: 'n', 15: 'o', 16: 'p', 17: 'q', 18: 'r', 19: 's', 20: 't', 21: 'u', 22: 'v', 23: 'w', 24: 'x', 25: 'y', 26: 'z', 0: '.'}\n"
     ]
    }
   ],
   "source": [
    "chars = sorted(list(set(''.join(words))))\n",
    "stringToIndex = {char:index + 1 for index, char in enumerate(chars)}\n",
    "stringToIndex['.'] = 0\n",
    "indexToString = {index:char for char, index in stringToIndex.items()}\n",
    "print(indexToString)"
   ]
  },
  {
   "cell_type": "code",
   "execution_count": 5,
   "metadata": {},
   "outputs": [
    {
     "data": {
      "text/plain": [
       "torch.Size([228146, 3])"
      ]
     },
     "execution_count": 5,
     "metadata": {},
     "output_type": "execute_result"
    }
   ],
   "source": [
    "# Building the dataset\n",
    "block_size = 3\n",
    "X, Y = [], []\n",
    "for word in words:\n",
    "    # print(word)\n",
    "    context = [0] * block_size\n",
    "    for ch in word + '.':\n",
    "        ix = stringToIndex[ch]\n",
    "        X.append(context)\n",
    "        Y.append(ix)\n",
    "        # print(''.join(indexToString[i] for i in context), '------->', indexToString[ix])\n",
    "        context = context[1:] + [ix] # Crop and append\n",
    "        \n",
    "X = torch.tensor(X)\n",
    "Y = torch.tensor(Y)\n",
    "X.shape"
   ]
  },
  {
   "cell_type": "code",
   "execution_count": 6,
   "metadata": {},
   "outputs": [],
   "source": [
    "# Embedding layer\n",
    "C = torch.randn((27, 2))\n",
    "emb = C[X]\n",
    "\n",
    "# Weights to the hidden layer\n",
    "W1 = torch.randn((6, 100))\n",
    "b1 = torch.randn((100,))"
   ]
  },
  {
   "cell_type": "markdown",
   "metadata": {},
   "source": [
    "## 3 ways to reshape the embedding layer"
   ]
  },
  {
   "cell_type": "code",
   "execution_count": 7,
   "metadata": {},
   "outputs": [
    {
     "data": {
      "text/plain": [
       "tensor([[ 1.0966, -1.4002,  1.0966, -1.4002,  1.0966, -1.4002],\n",
       "        [ 1.0966, -1.4002,  1.0966, -1.4002,  0.5659, -0.0033],\n",
       "        [ 1.0966, -1.4002,  0.5659, -0.0033, -0.4381,  1.0622],\n",
       "        ...,\n",
       "        [ 0.9959, -0.9085,  0.9959, -0.9085, -1.0437, -0.2549],\n",
       "        [ 0.9959, -0.9085, -1.0437, -0.2549,  0.9959, -0.9085],\n",
       "        [-1.0437, -0.2549,  0.9959, -0.9085,  0.4727, -0.0234]])"
      ]
     },
     "execution_count": 7,
     "metadata": {},
     "output_type": "execute_result"
    }
   ],
   "source": [
    "# Not useful, hard coded. What if my block_size changes?\n",
    "torch.cat([emb[:, 0, :], emb[:, 1, :], emb[:, 2, :]], dim=1)"
   ]
  },
  {
   "cell_type": "code",
   "execution_count": 8,
   "metadata": {},
   "outputs": [
    {
     "data": {
      "text/plain": [
       "tensor([[ 1.0966, -1.4002,  1.0966, -1.4002,  1.0966, -1.4002],\n",
       "        [ 1.0966, -1.4002,  1.0966, -1.4002,  0.5659, -0.0033],\n",
       "        [ 1.0966, -1.4002,  0.5659, -0.0033, -0.4381,  1.0622],\n",
       "        ...,\n",
       "        [ 0.9959, -0.9085,  0.9959, -0.9085, -1.0437, -0.2549],\n",
       "        [ 0.9959, -0.9085, -1.0437, -0.2549,  0.9959, -0.9085],\n",
       "        [-1.0437, -0.2549,  0.9959, -0.9085,  0.4727, -0.0234]])"
      ]
     },
     "execution_count": 8,
     "metadata": {},
     "output_type": "execute_result"
    }
   ],
   "source": [
    "# Not efficient, we are creating another tensor\n",
    "torch.cat(torch.unbind(emb, dim = 1), dim = 1)"
   ]
  },
  {
   "cell_type": "code",
   "execution_count": 9,
   "metadata": {},
   "outputs": [
    {
     "data": {
      "text/plain": [
       "tensor([[ 1.0966, -1.4002,  1.0966, -1.4002,  1.0966, -1.4002],\n",
       "        [ 1.0966, -1.4002,  1.0966, -1.4002,  0.5659, -0.0033],\n",
       "        [ 1.0966, -1.4002,  0.5659, -0.0033, -0.4381,  1.0622],\n",
       "        ...,\n",
       "        [ 0.9959, -0.9085,  0.9959, -0.9085, -1.0437, -0.2549],\n",
       "        [ 0.9959, -0.9085, -1.0437, -0.2549,  0.9959, -0.9085],\n",
       "        [-1.0437, -0.2549,  0.9959, -0.9085,  0.4727, -0.0234]])"
      ]
     },
     "execution_count": 9,
     "metadata": {},
     "output_type": "execute_result"
    }
   ],
   "source": [
    "# Efficient way\n",
    "emb.view(-1, block_size * C.shape[1])"
   ]
  },
  {
   "cell_type": "code",
   "execution_count": 10,
   "metadata": {},
   "outputs": [
    {
     "data": {
      "text/plain": [
       "torch.Size([228146, 100])"
      ]
     },
     "execution_count": 10,
     "metadata": {},
     "output_type": "execute_result"
    }
   ],
   "source": [
    "h = torch.tanh(emb.view(-1, block_size * C.shape[1])@(W1) + b1)\n",
    "h.shape"
   ]
  },
  {
   "cell_type": "markdown",
   "metadata": {},
   "source": [
    "### Output layer"
   ]
  },
  {
   "cell_type": "code",
   "execution_count": 11,
   "metadata": {},
   "outputs": [],
   "source": [
    "W2 = torch.randn((100, 27))\n",
    "b2 = torch.randn(27)\n",
    "logits = h@W2 + b2\n",
    "counts = logits.exp()\n",
    "prob = counts/counts.sum(1, keepdim=True)\n",
    "loss = prob[torch.arange(len(Y)), Y].log().neg().mean()"
   ]
  },
  {
   "cell_type": "code",
   "execution_count": 15,
   "metadata": {},
   "outputs": [
    {
     "data": {
      "text/plain": [
       "tensor(17.9100)"
      ]
     },
     "execution_count": 15,
     "metadata": {},
     "output_type": "execute_result"
    }
   ],
   "source": [
    "loss"
   ]
  },
  {
   "cell_type": "code",
   "execution_count": 13,
   "metadata": {},
   "outputs": [
    {
     "data": {
      "text/plain": [
       "tensor([1.3716e-09, 8.8659e-08, 4.6781e-05,  ..., 1.5520e-08, 1.6692e-13,\n",
       "        5.1354e-05])"
      ]
     },
     "execution_count": 13,
     "metadata": {},
     "output_type": "execute_result"
    }
   ],
   "source": [
    "prob[torch.arange(prob.shape[0]), Y]"
   ]
  },
  {
   "cell_type": "code",
   "execution_count": 14,
   "metadata": {},
   "outputs": [
    {
     "data": {
      "text/plain": [
       "228146"
      ]
     },
     "execution_count": 14,
     "metadata": {},
     "output_type": "execute_result"
    }
   ],
   "source": [
    "prob.shape[0]"
   ]
  },
  {
   "cell_type": "markdown",
   "metadata": {},
   "source": [
    "# Rewriting everything:"
   ]
  },
  {
   "cell_type": "code",
   "execution_count": 41,
   "metadata": {},
   "outputs": [
    {
     "name": "stdout",
     "output_type": "stream",
     "text": [
      "number of parameters: 3481\n",
      "16.71360969543457\n",
      "16.713611602783203\n",
      "The algorithm is estimating the loss in a different way\n"
     ]
    }
   ],
   "source": [
    "g = torch.Generator().manual_seed(42)\n",
    "C = torch.randn((27,2))\n",
    "\n",
    "# Generating random parameters\n",
    "W1 = torch.randn((block_size * C.shape[1], 100))\n",
    "b1 = torch.randn((100,))\n",
    "W2 = torch.randn((100, 27))\n",
    "b2 = torch.randn(27)\n",
    "params = [C, W1, b1, W2, b2]\n",
    "print(\"number of parameters: \" + str(sum(p.numel() for p in params)))\n",
    "# Forward pass:\n",
    "\n",
    "# Embedding layer\n",
    "emb = C[X]\n",
    "\n",
    "# First hidden layer\n",
    "h = torch.tanh(emb.view(-1, block_size * C.shape[1])@W1 + b1)\n",
    "\n",
    "# Output layer\n",
    "logits = h@W2 + b2\n",
    "\n",
    "# Softmax layer (We can use cross_entropy easily. But we are doing it manually)\n",
    "counts = logits.exp()\n",
    "prob = counts/counts.sum(1, keepdim=True)\n",
    "loss = prob[torch.arange(len(Y)), Y].log().neg().mean()\n",
    "print(loss.item())\n",
    "# Use cross_entropy\n",
    "loss2 = F.cross_entropy(logits, Y) \n",
    "print(loss2.item())\n",
    "\n",
    "if loss.item() == loss2.item():\n",
    "    print(\"Both losses are the same\")\n",
    "else:\n",
    "    print(\"The algorithm is estimating the loss in a different way\")"
   ]
  },
  {
   "cell_type": "code",
   "execution_count": 42,
   "metadata": {},
   "outputs": [],
   "source": [
    "for p in params:\n",
    "    p.requires_grad_()"
   ]
  },
  {
   "cell_type": "code",
   "execution_count": 43,
   "metadata": {},
   "outputs": [
    {
     "name": "stdout",
     "output_type": "stream",
     "text": [
      "16.713611602783203\n",
      "13.3214750289917\n",
      "11.637941360473633\n",
      "10.510458946228027\n",
      "9.527788162231445\n",
      "8.657879829406738\n",
      "7.923840045928955\n",
      "7.2516608238220215\n",
      "6.7268171310424805\n",
      "6.3022589683532715\n",
      "5.964947700500488\n",
      "5.725965976715088\n",
      "5.502017974853516\n",
      "5.363192081451416\n",
      "5.056499481201172\n",
      "4.9138264656066895\n",
      "4.706515789031982\n",
      "4.625739574432373\n",
      "4.481625080108643\n",
      "4.449097156524658\n",
      "4.304779529571533\n",
      "4.276742935180664\n",
      "4.161706924438477\n",
      "4.137618064880371\n",
      "4.047755718231201\n",
      "4.0283403396606445\n",
      "3.9538369178771973\n",
      "3.9378418922424316\n",
      "3.8742263317108154\n",
      "3.86049222946167\n",
      "3.8054115772247314\n",
      "3.7930920124053955\n",
      "3.7446653842926025\n",
      "3.733241319656372\n",
      "3.6900429725646973\n",
      "3.6793389320373535\n",
      "3.6402695178985596\n",
      "3.6302614212036133\n",
      "3.5945167541503906\n",
      "3.5852088928222656\n",
      "3.5521793365478516\n",
      "3.543553352355957\n",
      "3.5127906799316406\n",
      "3.504812717437744\n",
      "3.476043939590454\n",
      "3.468707323074341\n",
      "3.4417285919189453\n",
      "3.435014247894287\n",
      "3.4096932411193848\n",
      "3.403580665588379\n",
      "3.379816770553589\n",
      "3.3742899894714355\n",
      "3.3519461154937744\n",
      "3.3469719886779785\n",
      "3.325921058654785\n",
      "3.321474075317383\n",
      "3.3015599250793457\n",
      "3.2976179122924805\n",
      "3.278677463531494\n",
      "3.2751994132995605\n",
      "3.2571065425872803\n",
      "3.2540602684020996\n",
      "3.2367312908172607\n",
      "3.2340939044952393\n",
      "3.2174363136291504\n",
      "3.2151787281036377\n",
      "3.1991336345672607\n",
      "3.1972179412841797\n",
      "3.181739330291748\n",
      "3.180140972137451\n",
      "3.1651968955993652\n",
      "3.1638877391815186\n",
      "3.1494414806365967\n",
      "3.1484007835388184\n",
      "3.134427070617676\n",
      "3.1336333751678467\n",
      "3.1200923919677734\n",
      "3.119523048400879\n",
      "3.106389045715332\n",
      "3.1060266494750977\n",
      "3.093266725540161\n",
      "3.0930917263031006\n",
      "3.0806753635406494\n",
      "3.080669641494751\n",
      "3.068575143814087\n",
      "3.068728446960449\n",
      "3.0569241046905518\n",
      "3.0572216510772705\n",
      "3.0456924438476562\n",
      "3.046123504638672\n",
      "3.0348403453826904\n",
      "3.035393238067627\n",
      "3.024338483810425\n",
      "3.025007724761963\n",
      "3.0141761302948\n",
      "3.014960289001465\n",
      "3.004328966140747\n",
      "3.005223035812378\n",
      "2.994784116744995\n",
      "2.9957897663116455\n"
     ]
    }
   ],
   "source": [
    "# Forward pass:\n",
    "for _ in range(100):\n",
    "    # Embedding layer\n",
    "    emb = C[X]\n",
    "\n",
    "    # First hidden layer\n",
    "    h = torch.tanh(emb.view(-1, block_size * C.shape[1])@W1 + b1)\n",
    "\n",
    "    # Output layer\n",
    "    logits = h@W2 + b2\n",
    "    loss = F.cross_entropy(logits, Y)\n",
    "    print(loss.item())\n",
    "    # Backward pass\n",
    "    for p in params:\n",
    "        p.grad = None\n",
    "\n",
    "    loss.backward()\n",
    "\n",
    "    for p in params:\n",
    "        # print(p.grad)\n",
    "        p.data -= .2 * p.grad"
   ]
  },
  {
   "cell_type": "markdown",
   "metadata": {},
   "source": [
    "## Minibatch + Learning rate"
   ]
  },
  {
   "cell_type": "code",
   "execution_count": 48,
   "metadata": {},
   "outputs": [
    {
     "name": "stdout",
     "output_type": "stream",
     "text": [
      "number of parameters: 3481\n",
      "2.4982542991638184\n"
     ]
    }
   ],
   "source": [
    "g = torch.Generator().manual_seed(42)\n",
    "C = torch.randn((27,2))\n",
    "\n",
    "# Generating random parameters\n",
    "W1 = torch.randn((block_size * C.shape[1], 100))\n",
    "b1 = torch.randn((100,))\n",
    "W2 = torch.randn((100, 27))\n",
    "b2 = torch.randn(27)\n",
    "params = [C, W1, b1, W2, b2]\n",
    "print(\"number of parameters: \" + str(sum(p.numel() for p in params)))\n",
    "\n",
    "# Hyperparams: \n",
    "learning_rate = .2\n",
    "n_epochs = 10000\n",
    "batch_size = 32\n",
    "\n",
    "for p in params:\n",
    "    p.requires_grad_()\n",
    "    \n",
    "for _ in range(n_epochs):\n",
    "    # Mini-batch construction:\n",
    "    ix = torch.randint(0, X.shape[0], (batch_size,), generator=g)\n",
    "    \n",
    "    # Forward pass:\n",
    "    # Embedding layer\n",
    "    emb = C[X[ix]]\n",
    "\n",
    "    # First hidden layer\n",
    "    h = torch.tanh(emb.view(-1, block_size * C.shape[1])@W1 + b1)\n",
    "\n",
    "    # Output layer\n",
    "    logits = h@W2 + b2\n",
    "    loss = F.cross_entropy(logits, Y[ix])\n",
    "    # print(loss.item())\n",
    "    \n",
    "    # Backward pass\n",
    "    for p in params:\n",
    "        p.grad = None\n",
    "    loss.backward()\n",
    "    \n",
    "    # Update\n",
    "    for p in params:\n",
    "        # print(p.grad)\n",
    "        p.data -= learning_rate * p.grad\n",
    "\n",
    "# Print loss with the whole dataset\n",
    "# Forward pass:\n",
    "# Embedding layer\n",
    "emb = C[X]\n",
    "h = torch.tanh(emb.view(-1, block_size * C.shape[1])@W1 + b1)\n",
    "logits = h@W2 + b2\n",
    "loss = F.cross_entropy(logits, Y)\n",
    "print(loss.item())"
   ]
  }
 ],
 "metadata": {
  "kernelspec": {
   "display_name": "torch",
   "language": "python",
   "name": "python3"
  },
  "language_info": {
   "codemirror_mode": {
    "name": "ipython",
    "version": 3
   },
   "file_extension": ".py",
   "mimetype": "text/x-python",
   "name": "python",
   "nbconvert_exporter": "python",
   "pygments_lexer": "ipython3",
   "version": "3.10.10"
  }
 },
 "nbformat": 4,
 "nbformat_minor": 2
}
