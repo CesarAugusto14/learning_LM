{
 "cells": [
  {
   "cell_type": "markdown",
   "metadata": {},
   "source": [
    "# Multilayer Perceptron (MLP) for the names dataset "
   ]
  },
  {
   "cell_type": "code",
   "execution_count": 24,
   "metadata": {},
   "outputs": [],
   "source": [
    "import torch\n",
    "import torch.nn.functional as F\n",
    "import matplotlib.pyplot as plt\n",
    "\n"
   ]
  },
  {
   "cell_type": "code",
   "execution_count": 2,
   "metadata": {},
   "outputs": [
    {
     "data": {
      "text/plain": [
       "['emma', 'olivia', 'ava', 'isabella', 'sophia']"
      ]
     },
     "execution_count": 2,
     "metadata": {},
     "output_type": "execute_result"
    }
   ],
   "source": [
    "words = open('data/names.txt', 'r').read().split()\n",
    "words[:5]"
   ]
  },
  {
   "cell_type": "code",
   "execution_count": 3,
   "metadata": {},
   "outputs": [
    {
     "data": {
      "text/plain": [
       "32033"
      ]
     },
     "execution_count": 3,
     "metadata": {},
     "output_type": "execute_result"
    }
   ],
   "source": [
    "len(words)"
   ]
  },
  {
   "cell_type": "markdown",
   "metadata": {},
   "source": [
    "## Tokenization"
   ]
  },
  {
   "cell_type": "code",
   "execution_count": 4,
   "metadata": {},
   "outputs": [
    {
     "name": "stdout",
     "output_type": "stream",
     "text": [
      "{1: 'a', 2: 'b', 3: 'c', 4: 'd', 5: 'e', 6: 'f', 7: 'g', 8: 'h', 9: 'i', 10: 'j', 11: 'k', 12: 'l', 13: 'm', 14: 'n', 15: 'o', 16: 'p', 17: 'q', 18: 'r', 19: 's', 20: 't', 21: 'u', 22: 'v', 23: 'w', 24: 'x', 25: 'y', 26: 'z', 0: '.'}\n"
     ]
    }
   ],
   "source": [
    "chars = sorted(list(set(''.join(words))))\n",
    "stringToIndex = {char:index + 1 for index, char in enumerate(chars)}\n",
    "stringToIndex['.'] = 0\n",
    "indexToString = {index:char for char, index in stringToIndex.items()}\n",
    "print(indexToString)"
   ]
  },
  {
   "cell_type": "code",
   "execution_count": 5,
   "metadata": {},
   "outputs": [
    {
     "data": {
      "text/plain": [
       "torch.Size([228146, 3])"
      ]
     },
     "execution_count": 5,
     "metadata": {},
     "output_type": "execute_result"
    }
   ],
   "source": [
    "# Building the dataset\n",
    "block_size = 3\n",
    "X, Y = [], []\n",
    "for word in words:\n",
    "    # print(word)\n",
    "    context = [0] * block_size\n",
    "    for ch in word + '.':\n",
    "        ix = stringToIndex[ch]\n",
    "        X.append(context)\n",
    "        Y.append(ix)\n",
    "        # print(''.join(indexToString[i] for i in context), '------->', indexToString[ix])\n",
    "        context = context[1:] + [ix] # Crop and append\n",
    "        \n",
    "X = torch.tensor(X)\n",
    "Y = torch.tensor(Y)\n",
    "X.shape"
   ]
  },
  {
   "cell_type": "code",
   "execution_count": 6,
   "metadata": {},
   "outputs": [],
   "source": [
    "# Embedding layer\n",
    "C = torch.randn((27, 2))\n",
    "emb = C[X]\n",
    "\n",
    "# Weights to the hidden layer\n",
    "W1 = torch.randn((6, 100))\n",
    "b1 = torch.randn((100,))"
   ]
  },
  {
   "cell_type": "markdown",
   "metadata": {},
   "source": [
    "## 3 ways to reshape the embedding layer"
   ]
  },
  {
   "cell_type": "code",
   "execution_count": 7,
   "metadata": {},
   "outputs": [
    {
     "data": {
      "text/plain": [
       "tensor([[ 1.0966, -1.4002,  1.0966, -1.4002,  1.0966, -1.4002],\n",
       "        [ 1.0966, -1.4002,  1.0966, -1.4002,  0.5659, -0.0033],\n",
       "        [ 1.0966, -1.4002,  0.5659, -0.0033, -0.4381,  1.0622],\n",
       "        ...,\n",
       "        [ 0.9959, -0.9085,  0.9959, -0.9085, -1.0437, -0.2549],\n",
       "        [ 0.9959, -0.9085, -1.0437, -0.2549,  0.9959, -0.9085],\n",
       "        [-1.0437, -0.2549,  0.9959, -0.9085,  0.4727, -0.0234]])"
      ]
     },
     "execution_count": 7,
     "metadata": {},
     "output_type": "execute_result"
    }
   ],
   "source": [
    "# Not useful, hard coded. What if my block_size changes?\n",
    "torch.cat([emb[:, 0, :], emb[:, 1, :], emb[:, 2, :]], dim=1)"
   ]
  },
  {
   "cell_type": "code",
   "execution_count": 8,
   "metadata": {},
   "outputs": [
    {
     "data": {
      "text/plain": [
       "tensor([[ 1.0966, -1.4002,  1.0966, -1.4002,  1.0966, -1.4002],\n",
       "        [ 1.0966, -1.4002,  1.0966, -1.4002,  0.5659, -0.0033],\n",
       "        [ 1.0966, -1.4002,  0.5659, -0.0033, -0.4381,  1.0622],\n",
       "        ...,\n",
       "        [ 0.9959, -0.9085,  0.9959, -0.9085, -1.0437, -0.2549],\n",
       "        [ 0.9959, -0.9085, -1.0437, -0.2549,  0.9959, -0.9085],\n",
       "        [-1.0437, -0.2549,  0.9959, -0.9085,  0.4727, -0.0234]])"
      ]
     },
     "execution_count": 8,
     "metadata": {},
     "output_type": "execute_result"
    }
   ],
   "source": [
    "# Not efficient, we are creating another tensor\n",
    "torch.cat(torch.unbind(emb, dim = 1), dim = 1)"
   ]
  },
  {
   "cell_type": "code",
   "execution_count": 9,
   "metadata": {},
   "outputs": [
    {
     "data": {
      "text/plain": [
       "tensor([[ 1.0966, -1.4002,  1.0966, -1.4002,  1.0966, -1.4002],\n",
       "        [ 1.0966, -1.4002,  1.0966, -1.4002,  0.5659, -0.0033],\n",
       "        [ 1.0966, -1.4002,  0.5659, -0.0033, -0.4381,  1.0622],\n",
       "        ...,\n",
       "        [ 0.9959, -0.9085,  0.9959, -0.9085, -1.0437, -0.2549],\n",
       "        [ 0.9959, -0.9085, -1.0437, -0.2549,  0.9959, -0.9085],\n",
       "        [-1.0437, -0.2549,  0.9959, -0.9085,  0.4727, -0.0234]])"
      ]
     },
     "execution_count": 9,
     "metadata": {},
     "output_type": "execute_result"
    }
   ],
   "source": [
    "# Efficient way\n",
    "emb.view(-1, block_size * C.shape[1])"
   ]
  },
  {
   "cell_type": "code",
   "execution_count": 10,
   "metadata": {},
   "outputs": [
    {
     "data": {
      "text/plain": [
       "torch.Size([228146, 100])"
      ]
     },
     "execution_count": 10,
     "metadata": {},
     "output_type": "execute_result"
    }
   ],
   "source": [
    "h = torch.tanh(emb.view(-1, block_size * C.shape[1])@(W1) + b1)\n",
    "h.shape"
   ]
  },
  {
   "cell_type": "markdown",
   "metadata": {},
   "source": [
    "### Output layer"
   ]
  },
  {
   "cell_type": "code",
   "execution_count": 11,
   "metadata": {},
   "outputs": [],
   "source": [
    "W2 = torch.randn((100, 27))\n",
    "b2 = torch.randn(27)\n",
    "logits = h@W2 + b2\n",
    "counts = logits.exp()\n",
    "prob = counts/counts.sum(1, keepdim=True)\n",
    "loss = prob[torch.arange(len(Y)), Y].log().neg().mean()"
   ]
  },
  {
   "cell_type": "code",
   "execution_count": 15,
   "metadata": {},
   "outputs": [
    {
     "data": {
      "text/plain": [
       "tensor(17.9100)"
      ]
     },
     "execution_count": 15,
     "metadata": {},
     "output_type": "execute_result"
    }
   ],
   "source": [
    "loss"
   ]
  },
  {
   "cell_type": "code",
   "execution_count": 13,
   "metadata": {},
   "outputs": [
    {
     "data": {
      "text/plain": [
       "tensor([1.3716e-09, 8.8659e-08, 4.6781e-05,  ..., 1.5520e-08, 1.6692e-13,\n",
       "        5.1354e-05])"
      ]
     },
     "execution_count": 13,
     "metadata": {},
     "output_type": "execute_result"
    }
   ],
   "source": [
    "prob[torch.arange(prob.shape[0]), Y]"
   ]
  },
  {
   "cell_type": "code",
   "execution_count": 14,
   "metadata": {},
   "outputs": [
    {
     "data": {
      "text/plain": [
       "228146"
      ]
     },
     "execution_count": 14,
     "metadata": {},
     "output_type": "execute_result"
    }
   ],
   "source": [
    "prob.shape[0]"
   ]
  },
  {
   "cell_type": "markdown",
   "metadata": {},
   "source": [
    "# Rewriting everything:"
   ]
  },
  {
   "cell_type": "code",
   "execution_count": 29,
   "metadata": {},
   "outputs": [
    {
     "name": "stdout",
     "output_type": "stream",
     "text": [
      "number of parameters: 3481\n",
      "17.035829544067383\n",
      "17.03582763671875\n",
      "The algorithm is estimating the loss in a different way\n"
     ]
    }
   ],
   "source": [
    "g = torch.Generator().manual_seed(42)\n",
    "C = torch.randn((27,2))\n",
    "\n",
    "# Generating random parameters\n",
    "W1 = torch.randn((block_size * C.shape[1], 100))\n",
    "b1 = torch.randn((100,))\n",
    "W2 = torch.randn((100, 27))\n",
    "b2 = torch.randn(27)\n",
    "params = [C, W1, b1, W2, b2]\n",
    "print(\"number of parameters: \" + str(sum(p.numel() for p in params)))\n",
    "# Forward pass:\n",
    "\n",
    "# Embedding layer\n",
    "emb = C[X]\n",
    "\n",
    "# First hidden layer\n",
    "h = torch.tanh(emb.view(-1, block_size * C.shape[1])@W1 + b1)\n",
    "\n",
    "# Output layer\n",
    "logits = h@W2 + b2\n",
    "\n",
    "# Softmax layer (We can use cross_entropy easily. But we are doing it manually)\n",
    "counts = logits.exp()\n",
    "prob = counts/counts.sum(1, keepdim=True)\n",
    "loss = prob[torch.arange(len(Y)), Y].log().neg().mean()\n",
    "print(loss.item())\n",
    "# Use cross_entropy\n",
    "loss2 = F.cross_entropy(logits, Y) \n",
    "print(loss2.item())\n",
    "\n",
    "if loss.item() == loss2.item():\n",
    "    print(\"Both losses are the same\")\n",
    "else:\n",
    "    print(\"The algorithm is estimating the loss in a different way\")"
   ]
  }
 ],
 "metadata": {
  "kernelspec": {
   "display_name": "torch",
   "language": "python",
   "name": "python3"
  },
  "language_info": {
   "codemirror_mode": {
    "name": "ipython",
    "version": 3
   },
   "file_extension": ".py",
   "mimetype": "text/x-python",
   "name": "python",
   "nbconvert_exporter": "python",
   "pygments_lexer": "ipython3",
   "version": "3.10.10"
  }
 },
 "nbformat": 4,
 "nbformat_minor": 2
}
