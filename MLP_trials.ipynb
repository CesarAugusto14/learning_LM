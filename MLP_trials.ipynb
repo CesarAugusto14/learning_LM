{
 "cells": [
  {
   "cell_type": "markdown",
   "metadata": {},
   "source": [
    "# Multilayer Perceptron (MLP) for the names dataset "
   ]
  },
  {
   "cell_type": "code",
   "execution_count": 2,
   "metadata": {},
   "outputs": [],
   "source": [
    "import torch\n",
    "import torch.functional as F\n",
    "import matplotlib.pyplot as plt\n",
    "\n"
   ]
  },
  {
   "cell_type": "code",
   "execution_count": 3,
   "metadata": {},
   "outputs": [
    {
     "data": {
      "text/plain": [
       "['emma', 'olivia', 'ava', 'isabella', 'sophia']"
      ]
     },
     "execution_count": 3,
     "metadata": {},
     "output_type": "execute_result"
    }
   ],
   "source": [
    "words = open('data/names.txt', 'r').read().split()\n",
    "words[:5]"
   ]
  },
  {
   "cell_type": "code",
   "execution_count": 4,
   "metadata": {},
   "outputs": [
    {
     "data": {
      "text/plain": [
       "32033"
      ]
     },
     "execution_count": 4,
     "metadata": {},
     "output_type": "execute_result"
    }
   ],
   "source": [
    "len(words)"
   ]
  },
  {
   "cell_type": "markdown",
   "metadata": {},
   "source": [
    "## Tokenization"
   ]
  },
  {
   "cell_type": "code",
   "execution_count": 5,
   "metadata": {},
   "outputs": [
    {
     "name": "stdout",
     "output_type": "stream",
     "text": [
      "{1: 'a', 2: 'b', 3: 'c', 4: 'd', 5: 'e', 6: 'f', 7: 'g', 8: 'h', 9: 'i', 10: 'j', 11: 'k', 12: 'l', 13: 'm', 14: 'n', 15: 'o', 16: 'p', 17: 'q', 18: 'r', 19: 's', 20: 't', 21: 'u', 22: 'v', 23: 'w', 24: 'x', 25: 'y', 26: 'z', 0: '.'}\n"
     ]
    }
   ],
   "source": [
    "chars = sorted(list(set(''.join(words))))\n",
    "stringToIndex = {char:index + 1 for index, char in enumerate(chars)}\n",
    "stringToIndex['.'] = 0\n",
    "indexToString = {index:char for char, index in stringToIndex.items()}\n",
    "print(indexToString)"
   ]
  },
  {
   "cell_type": "code",
   "execution_count": 6,
   "metadata": {},
   "outputs": [
    {
     "data": {
      "text/plain": [
       "torch.Size([228146, 3])"
      ]
     },
     "execution_count": 6,
     "metadata": {},
     "output_type": "execute_result"
    }
   ],
   "source": [
    "# Building the dataset\n",
    "block_size = 3\n",
    "X, Y = [], []\n",
    "for word in words:\n",
    "    # print(word)\n",
    "    context = [0] * block_size\n",
    "    for ch in word + '.':\n",
    "        ix = stringToIndex[ch]\n",
    "        X.append(context)\n",
    "        Y.append(ix)\n",
    "        # print(''.join(indexToString[i] for i in context), '------->', indexToString[ix])\n",
    "        context = context[1:] + [ix] # Crop and append\n",
    "        \n",
    "X = torch.tensor(X)\n",
    "Y = torch.tensor(Y)\n",
    "X.shape"
   ]
  },
  {
   "cell_type": "code",
   "execution_count": 7,
   "metadata": {},
   "outputs": [],
   "source": [
    "# Embedding layer\n",
    "C = torch.randn((27, 2))\n",
    "emb = C[X]\n",
    "\n",
    "# Weights to the hidden layer\n",
    "W1 = torch.randn((6, 100))\n",
    "b1 = torch.randn((100,))"
   ]
  },
  {
   "cell_type": "markdown",
   "metadata": {},
   "source": [
    "## 3 ways to reshape the embedding layer"
   ]
  },
  {
   "cell_type": "code",
   "execution_count": 8,
   "metadata": {},
   "outputs": [
    {
     "data": {
      "text/plain": [
       "tensor([[-0.3582,  0.9743, -0.3582,  0.9743, -0.3582,  0.9743],\n",
       "        [-0.3582,  0.9743, -0.3582,  0.9743,  0.6907, -1.6614],\n",
       "        [-0.3582,  0.9743,  0.6907, -1.6614,  0.2779, -0.3458],\n",
       "        ...,\n",
       "        [-2.2907,  0.9125, -2.2907,  0.9125, -0.0355, -0.8173],\n",
       "        [-2.2907,  0.9125, -0.0355, -0.8173, -2.2907,  0.9125],\n",
       "        [-0.0355, -0.8173, -2.2907,  0.9125, -0.6835,  1.3147]])"
      ]
     },
     "execution_count": 8,
     "metadata": {},
     "output_type": "execute_result"
    }
   ],
   "source": [
    "# Not useful, hard coded. What if my block_size changes?\n",
    "torch.cat([emb[:, 0, :], emb[:, 1, :], emb[:, 2, :]], dim=1)"
   ]
  },
  {
   "cell_type": "code",
   "execution_count": 9,
   "metadata": {},
   "outputs": [
    {
     "data": {
      "text/plain": [
       "tensor([[-0.3582,  0.9743, -0.3582,  0.9743, -0.3582,  0.9743],\n",
       "        [-0.3582,  0.9743, -0.3582,  0.9743,  0.6907, -1.6614],\n",
       "        [-0.3582,  0.9743,  0.6907, -1.6614,  0.2779, -0.3458],\n",
       "        ...,\n",
       "        [-2.2907,  0.9125, -2.2907,  0.9125, -0.0355, -0.8173],\n",
       "        [-2.2907,  0.9125, -0.0355, -0.8173, -2.2907,  0.9125],\n",
       "        [-0.0355, -0.8173, -2.2907,  0.9125, -0.6835,  1.3147]])"
      ]
     },
     "execution_count": 9,
     "metadata": {},
     "output_type": "execute_result"
    }
   ],
   "source": [
    "# Not efficient, we are creating another tensor\n",
    "torch.cat(torch.unbind(emb, dim = 1), dim = 1)"
   ]
  },
  {
   "cell_type": "code",
   "execution_count": 10,
   "metadata": {},
   "outputs": [
    {
     "data": {
      "text/plain": [
       "tensor([[-0.3582,  0.9743, -0.3582,  0.9743, -0.3582,  0.9743],\n",
       "        [-0.3582,  0.9743, -0.3582,  0.9743,  0.6907, -1.6614],\n",
       "        [-0.3582,  0.9743,  0.6907, -1.6614,  0.2779, -0.3458],\n",
       "        ...,\n",
       "        [-2.2907,  0.9125, -2.2907,  0.9125, -0.0355, -0.8173],\n",
       "        [-2.2907,  0.9125, -0.0355, -0.8173, -2.2907,  0.9125],\n",
       "        [-0.0355, -0.8173, -2.2907,  0.9125, -0.6835,  1.3147]])"
      ]
     },
     "execution_count": 10,
     "metadata": {},
     "output_type": "execute_result"
    }
   ],
   "source": [
    "# Efficient way\n",
    "emb.view(-1, block_size * C.shape[1])"
   ]
  },
  {
   "cell_type": "code",
   "execution_count": 11,
   "metadata": {},
   "outputs": [
    {
     "data": {
      "text/plain": [
       "torch.Size([228146, 100])"
      ]
     },
     "execution_count": 11,
     "metadata": {},
     "output_type": "execute_result"
    }
   ],
   "source": [
    "h = torch.tanh(emb.view(-1, block_size * C.shape[1])@(W1) + b1)\n",
    "h.shape"
   ]
  },
  {
   "cell_type": "markdown",
   "metadata": {},
   "source": [
    "### Output layer"
   ]
  },
  {
   "cell_type": "code",
   "execution_count": 15,
   "metadata": {},
   "outputs": [],
   "source": [
    "W2 = torch.randn((100, 27))\n",
    "b2 = torch.randn(27)\n",
    "logits = h@W2 + b2\n",
    "counts = logits.exp()\n",
    "prob = counts/counts.sum(1, keepdim=True)\n"
   ]
  },
  {
   "cell_type": "code",
   "execution_count": 19,
   "metadata": {},
   "outputs": [
    {
     "data": {
      "text/plain": [
       "tensor([1.0000, 1.0000, 1.0000,  ..., 1.0000, 1.0000, 1.0000])"
      ]
     },
     "execution_count": 19,
     "metadata": {},
     "output_type": "execute_result"
    }
   ],
   "source": [
    "prob.sum(1)"
   ]
  },
  {
   "cell_type": "code",
   "execution_count": 27,
   "metadata": {},
   "outputs": [
    {
     "data": {
      "text/plain": [
       "tensor([2.3648e-07, 1.7545e-11, 2.0323e-14,  ..., 2.5863e-14, 2.2179e-03,\n",
       "        4.1952e-14])"
      ]
     },
     "execution_count": 27,
     "metadata": {},
     "output_type": "execute_result"
    }
   ],
   "source": [
    "prob[torch.arange(prob.shape[0]), Y]"
   ]
  },
  {
   "cell_type": "code",
   "execution_count": 26,
   "metadata": {},
   "outputs": [
    {
     "data": {
      "text/plain": [
       "228146"
      ]
     },
     "execution_count": 26,
     "metadata": {},
     "output_type": "execute_result"
    }
   ],
   "source": [
    "prob.shape[0]"
   ]
  }
 ],
 "metadata": {
  "kernelspec": {
   "display_name": "torch",
   "language": "python",
   "name": "python3"
  },
  "language_info": {
   "codemirror_mode": {
    "name": "ipython",
    "version": 3
   },
   "file_extension": ".py",
   "mimetype": "text/x-python",
   "name": "python",
   "nbconvert_exporter": "python",
   "pygments_lexer": "ipython3",
   "version": "3.10.10"
  }
 },
 "nbformat": 4,
 "nbformat_minor": 2
}
